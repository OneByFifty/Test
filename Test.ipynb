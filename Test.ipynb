{
 "cells": [
  {
   "cell_type": "code",
   "execution_count": 14,
   "metadata": {},
   "outputs": [
    {
     "data": {
      "text/plain": [
       "18"
      ]
     },
     "execution_count": 14,
     "metadata": {},
     "output_type": "execute_result"
    }
   ],
   "source": [
    "counter=0\n",
    "s=\"azcbobobegghaklbob\"\n",
    "i=0\n",
    "len(s)"
   ]
  },
  {
   "cell_type": "code",
   "execution_count": 17,
   "metadata": {},
   "outputs": [
    {
     "name": "stdout",
     "output_type": "stream",
     "text": [
      "3\n"
     ]
    }
   ],
   "source": [
    "while i < (len(s)-2):\n",
    "    if s[i:i+3]==\"bob\":\n",
    "        counter +=1\n",
    "    i+=1\n",
    "\n",
    "print (counter)\n"
   ]
  },
  {
   "cell_type": "code",
   "execution_count": 116,
   "metadata": {},
   "outputs": [],
   "source": [
    "counter=1\n",
    "s='hadkiwumavbmlfkbdfjxhryi'\n",
    "string=s[0]\n",
    "longest=s[0]"
   ]
  },
  {
   "cell_type": "code",
   "execution_count": 117,
   "metadata": {},
   "outputs": [
    {
     "name": "stdout",
     "output_type": "stream",
     "text": [
      "Longest substring in alphabetical order is: bdfjx\n"
     ]
    }
   ],
   "source": [
    "while counter<len(s):\n",
    "    if s[counter]>=string[len(string)-1]:\n",
    "        string +=s[counter]\n",
    "        if len(string)>len(longest):\n",
    "            longest=string\n",
    "    else:\n",
    "        string=s[counter]\n",
    "    counter+=1\n",
    "print (\"Longest substring in alphabetical order is: \"+longest)"
   ]
  },
  {
   "cell_type": "code",
   "execution_count": null,
   "metadata": {},
   "outputs": [],
   "source": []
  }
 ],
 "metadata": {
  "kernelspec": {
   "display_name": "Python 3",
   "language": "python",
   "name": "python3"
  }
 },
 "nbformat": 4,
 "nbformat_minor": 2
}
